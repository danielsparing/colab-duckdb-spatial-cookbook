{
 "cells": [
  {
   "cell_type": "markdown",
   "id": "a836e353",
   "metadata": {},
   "source": [
    "# Install GDAL (in Colab)\n",
    "\n",
    "In Colab, the [most straightforward way](https://colab.research.google.com/notebooks/snippets/importing_libraries.ipynb) to install system packages is `apt-get`. So:"
   ]
  },
  {
   "cell_type": "code",
   "execution_count": null,
   "id": "ea6279d3",
   "metadata": {
    "vscode": {
     "languageId": "plaintext"
    }
   },
   "outputs": [],
   "source": [
    "!apt-get install -y gdal-bin"
   ]
  },
  {
   "cell_type": "markdown",
   "id": "d6eec8f2",
   "metadata": {},
   "source": [
    "Which will for example let you run `ogr2ogr` (which might be able to convert a geospatial file just too complicated for DuckDB's `ST_Read`):"
   ]
  },
  {
   "cell_type": "code",
   "execution_count": null,
   "id": "f47d732a",
   "metadata": {
    "vscode": {
     "languageId": "plaintext"
    }
   },
   "outputs": [],
   "source": [
    "!ogr2ogr --version\n",
    "# Returns:\n",
    "# GDAL 3.6.4, released 2023/04/17"
   ]
  },
  {
   "cell_type": "markdown",
   "id": "fb31d34c",
   "metadata": {},
   "source": [
    "Within Python, you should also be able to use `gdal`:"
   ]
  },
  {
   "cell_type": "code",
   "execution_count": null,
   "id": "4759c0eb",
   "metadata": {
    "vscode": {
     "languageId": "plaintext"
    }
   },
   "outputs": [],
   "source": [
    "from osgeo import gdal"
   ]
  },
  {
   "cell_type": "markdown",
   "id": "f07a196c",
   "metadata": {},
   "source": [
    "Note however that (as of June 2025) you don't get Parquet support this way:"
   ]
  },
  {
   "cell_type": "code",
   "execution_count": null,
   "id": "b269d5ae",
   "metadata": {
    "vscode": {
     "languageId": "plaintext"
    }
   },
   "outputs": [],
   "source": [
    "!ogr2ogr --formats | grep parquet\n",
    "# Returns nothing\n"
   ]
  },
  {
   "cell_type": "markdown",
   "id": "70e19c24",
   "metadata": {},
   "source": [
    "To install GDAL command line tools with parquet support, see [install_gdal_conda.ipynb](install_gdal_conda.ipynb)"
   ]
  }
 ],
 "metadata": {
  "language_info": {
   "name": "python"
  }
 },
 "nbformat": 4,
 "nbformat_minor": 5
}
