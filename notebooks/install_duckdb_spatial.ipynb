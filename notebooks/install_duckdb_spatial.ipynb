{
 "cells": [
  {
   "cell_type": "markdown",
   "metadata": {
    "colab_type": "text",
    "id": "view-in-github"
   },
   "source": [
    "<a href=\"https://colab.research.google.com/github/danielsparing/colab-duckdb-spatial-cookbook/blob/main/install_duckdb_spatial.ipynb\" target=\"_parent\"><img src=\"https://colab.research.google.com/assets/colab-badge.svg\" alt=\"Open In Colab\"/></a>"
   ]
  },
  {
   "cell_type": "markdown",
   "metadata": {
    "id": "-U1FRuqCJ_RJ"
   },
   "source": [
    "# Install the DuckDB Spatial Extension"
   ]
  },
  {
   "cell_type": "code",
   "execution_count": null,
   "metadata": {
    "id": "BBeaFb8vINtL"
   },
   "outputs": [],
   "source": [
    "import duckdb"
   ]
  },
  {
   "cell_type": "code",
   "execution_count": null,
   "metadata": {
    "id": "tgxwWCxdIp8t"
   },
   "outputs": [],
   "source": [
    "duckdb.sql(\"install spatial; load spatial\")"
   ]
  },
  {
   "cell_type": "markdown",
   "metadata": {
    "id": "6vqHxWNmI8Er"
   },
   "source": [
    "or alternatively, you can use the methods from the DuckDB Python API:"
   ]
  },
  {
   "cell_type": "code",
   "execution_count": null,
   "metadata": {
    "id": "8WsBavLjJJ3W"
   },
   "outputs": [],
   "source": [
    "duckdb.install_extension(\"spatial\")\n",
    "duckdb.load_extension(\"spatial\")"
   ]
  },
  {
   "cell_type": "markdown",
   "metadata": {
    "id": "0qNm_pyWJYnq"
   },
   "source": [
    "I almost prefer this method but hey, the `duckdb.sql()` version is one line shorter."
   ]
  },
  {
   "cell_type": "markdown",
   "metadata": {
    "id": "3nQ8cJerJgmK"
   },
   "source": [
    "Now let's check that we can indeed use the extension:"
   ]
  },
  {
   "cell_type": "code",
   "execution_count": null,
   "metadata": {
    "colab": {
     "base_uri": "https://localhost:8080/"
    },
    "id": "X5Q4OQA2JVtc",
    "outputId": "32571075-6c07-4928-9e2a-944da9124ef1"
   },
   "outputs": [],
   "source": [
    "duckdb.sql(\"\"\"select st_distance(\n",
    "    st_geomfromtext('point(0 0)'),\n",
    "    st_geomfromtext('point(1 1)')\n",
    ") dist\"\"\")"
   ]
  },
  {
   "cell_type": "markdown",
   "metadata": {
    "id": "8OhAX61SKRM5"
   },
   "source": [
    "## Install the `h3` extension"
   ]
  },
  {
   "cell_type": "markdown",
   "metadata": {
    "id": "FHm463QdKVdO"
   },
   "source": [
    "Another extension we might need later, for spatial indexing, is [h3](https://duckdb.org/community_extensions/extensions/h3.html). Install similarly (but via the `community` repo) as:"
   ]
  },
  {
   "cell_type": "code",
   "execution_count": null,
   "metadata": {
    "id": "jNknb1xTJzga"
   },
   "outputs": [],
   "source": [
    "duckdb.sql(\"install h3 from community; load h3\")"
   ]
  },
  {
   "cell_type": "markdown",
   "metadata": {
    "id": "r3oMKeCrKmVY"
   },
   "source": [
    "Test ride, from their [docs](https://duckdb.org/community_extensions/extensions/h3.html#example):"
   ]
  },
  {
   "cell_type": "code",
   "execution_count": null,
   "metadata": {
    "colab": {
     "base_uri": "https://localhost:8080/"
    },
    "id": "pUc7SS45KfZ8",
    "outputId": "b0a3fc52-aa6a-44ef-a3e8-46e9f5c59a78"
   },
   "outputs": [],
   "source": [
    "duckdb.sql(\"SELECT h3_latlng_to_cell(37.7887987, -122.3931578, 9) cell\")"
   ]
  },
  {
   "cell_type": "code",
   "execution_count": null,
   "metadata": {
    "id": "iMm2ORk3KssR"
   },
   "outputs": [],
   "source": []
  }
 ],
 "metadata": {
  "colab": {
   "authorship_tag": "ABX9TyNDSFM8H61ydwwwWRldcTEF",
   "include_colab_link": true,
   "provenance": []
  },
  "kernelspec": {
   "display_name": "Python 3",
   "name": "python3"
  },
  "language_info": {
   "name": "python"
  }
 },
 "nbformat": 4,
 "nbformat_minor": 0
}
