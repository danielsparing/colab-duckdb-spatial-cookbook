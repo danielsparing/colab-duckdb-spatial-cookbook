{
 "cells": [
  {
   "cell_type": "markdown",
   "id": "0",
   "metadata": {
    "id": "a836e353"
   },
   "source": [
    "# Install GDAL command line tools (in Colab)\n",
    "\n",
    ">[!NOTE]\n",
    "> In the Colab Python environment, `gdal` is already installed and you can call `from osgeo import gdal`. The below is about the GDAL command line tools.\n",
    "\n",
    "In Colab, the [most straightforward way](https://colab.research.google.com/notebooks/snippets/importing_libraries.ipynb) to install system packages is `apt-get`. So:"
   ]
  },
  {
   "cell_type": "code",
   "execution_count": null,
   "id": "1",
   "metadata": {
    "colab": {
     "base_uri": "https://localhost:8080/"
    },
    "id": "ea6279d3",
    "outputId": "064c7983-2fc3-4d76-9d0b-162922682216",
    "vscode": {
     "languageId": "plaintext"
    }
   },
   "outputs": [],
   "source": [
    "!apt-get install -y gdal-bin"
   ]
  },
  {
   "cell_type": "markdown",
   "id": "2",
   "metadata": {
    "id": "d6eec8f2"
   },
   "source": [
    "Which will for example let you run [ogr2ogr](https://gdal.org/en/stable/programs/ogr2ogr.html) (which might be able to convert a geospatial file just too complicated for DuckDB's `ST_Read`):"
   ]
  },
  {
   "cell_type": "code",
   "execution_count": null,
   "id": "3",
   "metadata": {
    "colab": {
     "base_uri": "https://localhost:8080/"
    },
    "id": "f47d732a",
    "outputId": "42fe58a1-9253-41b6-b692-18399ee9be67",
    "vscode": {
     "languageId": "plaintext"
    }
   },
   "outputs": [],
   "source": [
    "!ogr2ogr --version\n",
    "# Returns:\n",
    "# GDAL 3.6.4, released 2023/04/17"
   ]
  },
  {
   "cell_type": "markdown",
   "id": "4",
   "metadata": {
    "id": "f07a196c"
   },
   "source": [
    "Note however that (as of June 2025) you don't get Parquet support this way:"
   ]
  },
  {
   "cell_type": "code",
   "execution_count": null,
   "id": "5",
   "metadata": {
    "id": "b269d5ae",
    "vscode": {
     "languageId": "plaintext"
    }
   },
   "outputs": [],
   "source": [
    "!ogr2ogr --formats | grep parquet\n",
    "# Returns nothing"
   ]
  },
  {
   "cell_type": "markdown",
   "id": "6",
   "metadata": {
    "id": "70e19c24"
   },
   "source": [
    "To install GDAL command line tools with parquet support, see [install_gdal_conda.ipynb](install_gdal_conda.ipynb)"
   ]
  }
 ],
 "metadata": {
  "colab": {
   "provenance": []
  },
  "kernelspec": {
   "display_name": "Python 3",
   "name": "python3"
  },
  "language_info": {
   "name": "python"
  }
 },
 "nbformat": 4,
 "nbformat_minor": 5
}
