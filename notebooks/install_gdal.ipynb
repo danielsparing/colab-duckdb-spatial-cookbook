{
  "cells": [
    {
      "cell_type": "markdown",
      "id": "a836e353",
      "metadata": {
        "id": "a836e353"
      },
      "source": [
        "# Install GDAL command line tools (in Colab)\n",
        "\n",
        ">[!NOTE]\n",
        "> In the Colab Python environment, `gdal` is already installed and you can call `from osgeo import gdal`. The below is about the GDAL command line tools.\n",
        "\n",
        "In Colab, the [most straightforward way](https://colab.research.google.com/notebooks/snippets/importing_libraries.ipynb) to install system packages is `apt-get`. So:"
      ]
    },
    {
      "cell_type": "code",
      "execution_count": 1,
      "id": "ea6279d3",
      "metadata": {
        "colab": {
          "base_uri": "https://localhost:8080/"
        },
        "id": "ea6279d3",
        "outputId": "064c7983-2fc3-4d76-9d0b-162922682216",
        "vscode": {
          "languageId": "plaintext"
        }
      },
      "outputs": [
        {
          "name": "stdout",
          "output_type": "stream",
          "text": [
            "Reading package lists... Done\n",
            "Building dependency tree... Done\n",
            "Reading state information... Done\n",
            "The following additional packages will be installed:\n",
            "  python3-gdal python3-numpy\n",
            "Suggested packages:\n",
            "  libgdal-grass python-numpy-doc python3-pytest\n",
            "The following NEW packages will be installed:\n",
            "  gdal-bin python3-gdal python3-numpy\n",
            "0 upgraded, 3 newly installed, 0 to remove and 35 not upgraded.\n",
            "Need to get 5,168 kB of archives.\n",
            "After this operation, 25.6 MB of additional disk space will be used.\n",
            "Get:1 http://archive.ubuntu.com/ubuntu jammy-updates/main amd64 python3-numpy amd64 1:1.21.5-1ubuntu22.04.1 [3,467 kB]\n",
            "Get:2 https://ppa.launchpadcontent.net/ubuntugis/ppa/ubuntu jammy/main amd64 python3-gdal amd64 3.8.4+dfsg-1~jammy0 [1,095 kB]\n",
            "Get:3 https://ppa.launchpadcontent.net/ubuntugis/ppa/ubuntu jammy/main amd64 gdal-bin amd64 3.8.4+dfsg-1~jammy0 [605 kB]\n",
            "Fetched 5,168 kB in 1s (4,245 kB/s)\n",
            "Selecting previously unselected package python3-numpy.\n",
            "(Reading database ... 126111 files and directories currently installed.)\n",
            "Preparing to unpack .../python3-numpy_1%3a1.21.5-1ubuntu22.04.1_amd64.deb ...\n",
            "Unpacking python3-numpy (1:1.21.5-1ubuntu22.04.1) ...\n",
            "Selecting previously unselected package python3-gdal.\n",
            "Preparing to unpack .../python3-gdal_3.8.4+dfsg-1~jammy0_amd64.deb ...\n",
            "Unpacking python3-gdal (3.8.4+dfsg-1~jammy0) ...\n",
            "Selecting previously unselected package gdal-bin.\n",
            "Preparing to unpack .../gdal-bin_3.8.4+dfsg-1~jammy0_amd64.deb ...\n",
            "Unpacking gdal-bin (3.8.4+dfsg-1~jammy0) ...\n",
            "Setting up python3-numpy (1:1.21.5-1ubuntu22.04.1) ...\n",
            "Setting up python3-gdal (3.8.4+dfsg-1~jammy0) ...\n",
            "Setting up gdal-bin (3.8.4+dfsg-1~jammy0) ...\n",
            "Processing triggers for man-db (2.10.2-1) ...\n"
          ]
        }
      ],
      "source": [
        "!apt-get install -y gdal-bin"
      ]
    },
    {
      "cell_type": "markdown",
      "id": "d6eec8f2",
      "metadata": {
        "id": "d6eec8f2"
      },
      "source": [
        "Which will for example let you run [ogr2ogr](https://gdal.org/en/stable/programs/ogr2ogr.html) (which might be able to convert a geospatial file just too complicated for DuckDB's `ST_Read`):"
      ]
    },
    {
      "cell_type": "code",
      "execution_count": 2,
      "id": "f47d732a",
      "metadata": {
        "colab": {
          "base_uri": "https://localhost:8080/"
        },
        "id": "f47d732a",
        "outputId": "42fe58a1-9253-41b6-b692-18399ee9be67",
        "vscode": {
          "languageId": "plaintext"
        }
      },
      "outputs": [
        {
          "name": "stdout",
          "output_type": "stream",
          "text": [
            "GDAL 3.8.4, released 2024/02/08\n"
          ]
        }
      ],
      "source": [
        "!ogr2ogr --version\n",
        "# Returns:\n",
        "# GDAL 3.6.4, released 2023/04/17"
      ]
    },
    {
      "cell_type": "markdown",
      "id": "f07a196c",
      "metadata": {
        "id": "f07a196c"
      },
      "source": [
        "Note however that (as of June 2025) you don't get Parquet support this way:"
      ]
    },
    {
      "cell_type": "code",
      "execution_count": 4,
      "id": "b269d5ae",
      "metadata": {
        "id": "b269d5ae",
        "vscode": {
          "languageId": "plaintext"
        }
      },
      "outputs": [],
      "source": [
        "!ogr2ogr --formats | grep parquet\n",
        "# Returns nothing"
      ]
    },
    {
      "cell_type": "markdown",
      "id": "70e19c24",
      "metadata": {
        "id": "70e19c24"
      },
      "source": [
        "To install GDAL command line tools with parquet support, see [install_gdal_conda.ipynb](install_gdal_conda.ipynb)"
      ]
    }
  ],
  "metadata": {
    "colab": {
      "provenance": []
    },
    "kernelspec": {
      "display_name": "Python 3",
      "name": "python3"
    },
    "language_info": {
      "name": "python"
    }
  },
  "nbformat": 4,
  "nbformat_minor": 5
}
