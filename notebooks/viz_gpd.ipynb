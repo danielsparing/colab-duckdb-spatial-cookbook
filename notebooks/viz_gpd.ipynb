{
 "cells": [
  {
   "cell_type": "markdown",
   "metadata": {
    "application/vnd.databricks.v1+cell": {
     "cellMetadata": {
      "byteLimit": 2048000,
      "rowLimit": 10000
     },
     "inputWidgets": {},
     "nuid": "544a307d-5b17-45f0-947a-a38db3fdbcf0",
     "showTitle": false,
     "tableResultSettingsMap": {},
     "title": ""
    },
    "id": "CNZ4-F6fMV_O"
   },
   "source": [
    "# Visualize a GeoPandas dataframe in Colab"
   ]
  },
  {
   "cell_type": "markdown",
   "metadata": {
    "application/vnd.databricks.v1+cell": {
     "cellMetadata": {},
     "inputWidgets": {},
     "nuid": "576fd3e9-fdee-4769-bd23-873b4bf1cc6d",
     "showTitle": false,
     "tableResultSettingsMap": {},
     "title": ""
    },
    "id": "_oi-XwZ-MV_P"
   },
   "source": [
    "get a gpd dataframe"
   ]
  },
  {
   "cell_type": "code",
   "execution_count": null,
   "metadata": {
    "application/vnd.databricks.v1+cell": {
     "cellMetadata": {
      "byteLimit": 2048000,
      "rowLimit": 10000
     },
     "inputWidgets": {},
     "nuid": "fdcf42a8-b1ee-429d-97b6-1ba5a2a65e95",
     "showTitle": false,
     "tableResultSettingsMap": {},
     "title": ""
    },
    "id": "Qh0aB2qjMV_Q"
   },
   "outputs": [],
   "source": [
    "import duckdb\n",
    "from shapely import wkb\n",
    "import geopandas as gpd\n",
    "\n",
    "duckdb.sql(\"install spatial; load spatial\")\n",
    "\n",
    "LIMIT = 1000\n",
    "\n",
    "pdf = duckdb.sql(\n",
    "    f\"\"\"\n",
    "select * replace (st_aswkb(geometry) as geometry)\n",
    "from\n",
    "  read_parquet(\n",
    "    's3://overturemaps-us-west-2/release/2025-05-21.0/theme=buildings/type=building/*',\n",
    "    filename=true,\n",
    "    hive_partitioning=1)\n",
    "WHERE names.primary IS NOT NULL\n",
    "  AND bbox.xmin BETWEEN -84.36 AND -82.42\n",
    "  AND bbox.ymin BETWEEN 41.71 AND 43.33\n",
    "limit {LIMIT}\"\"\"\n",
    ").df()\n",
    "\n",
    "pdf[\"geometry\"] = pdf[\"geometry\"].apply(lambda x: wkb.loads(bytes(x)))\n",
    "gdf = gpd.GeoDataFrame(pdf, geometry=\"geometry\").set_crs(\"OGC:CRS84\")\n",
    "\n",
    "gdf.shape[0]"
   ]
  },
  {
   "cell_type": "markdown",
   "metadata": {
    "application/vnd.databricks.v1+cell": {
     "cellMetadata": {},
     "inputWidgets": {},
     "nuid": "5fc12244-3419-4fc7-96c3-ad20c4ffb8af",
     "showTitle": false,
     "tableResultSettingsMap": {},
     "title": ""
    },
    "id": "HKHOkTanMV_Q"
   },
   "source": [
    "visualize"
   ]
  },
  {
   "cell_type": "markdown",
   "metadata": {
    "id": "LHGWprsOK-Rq"
   },
   "source": [
    "# Folium"
   ]
  },
  {
   "cell_type": "code",
   "execution_count": null,
   "metadata": {
    "id": "q8bf8-XwYv6c"
   },
   "outputs": [],
   "source": [
    "!pip install mapclassify --quiet"
   ]
  },
  {
   "cell_type": "code",
   "execution_count": null,
   "metadata": {
    "application/vnd.databricks.v1+cell": {
     "cellMetadata": {},
     "inputWidgets": {},
     "nuid": "1d4e0c59-996f-4a1f-92cf-0be2a8539c2e",
     "showTitle": false,
     "tableResultSettingsMap": {},
     "title": ""
    },
    "id": "XqjVtiUPMV_Q"
   },
   "outputs": [],
   "source": [
    "gdf.explore()"
   ]
  },
  {
   "cell_type": "markdown",
   "metadata": {
    "id": "g7ZMObWqLAyC"
   },
   "source": [
    "# Lonboard"
   ]
  },
  {
   "cell_type": "code",
   "execution_count": null,
   "metadata": {
    "id": "d5y8s4O8Z1Ru"
   },
   "outputs": [],
   "source": [
    "!pip install lonboard --quiet\n"
   ]
  },
  {
   "cell_type": "code",
   "execution_count": null,
   "metadata": {
    "application/vnd.databricks.v1+cell": {
     "cellMetadata": {
      "byteLimit": 2048000,
      "rowLimit": 10000
     },
     "inputWidgets": {},
     "nuid": "2dd55f12-6acb-4bc1-a328-aa7ab60763a2",
     "showTitle": false,
     "tableResultSettingsMap": {},
     "title": ""
    },
    "id": "XEq9eC1OMV_R"
   },
   "outputs": [],
   "source": [
    "from lonboard import viz\n",
    "\n",
    "viz(gdf)"
   ]
  },
  {
   "cell_type": "markdown",
   "metadata": {
    "id": "rBuUG2BwLIG0"
   },
   "source": [
    "# kepler"
   ]
  },
  {
   "cell_type": "code",
   "execution_count": null,
   "metadata": {
    "id": "3a7wY1ToLpe1"
   },
   "outputs": [],
   "source": [
    "!pip install keplergl==0.3.2 --quiet\n"
   ]
  },
  {
   "cell_type": "code",
   "execution_count": null,
   "metadata": {
    "id": "8jRHnd_DLrZv"
   },
   "outputs": [],
   "source": [
    "from google.colab import output\n",
    "\n",
    "output.enable_custom_widget_manager()"
   ]
  },
  {
   "cell_type": "code",
   "execution_count": null,
   "metadata": {
    "id": "ka-ixQG6LtH4"
   },
   "outputs": [],
   "source": [
    "from keplergl import KeplerGl\n",
    "\n",
    "m = KeplerGl(height=1000)\n",
    "m.add_data(data=gdf[[\"geometry\"]])\n",
    "m"
   ]
  },
  {
   "cell_type": "markdown",
   "metadata": {
    "id": "P_OM2BHZLJgc"
   },
   "source": [
    "# pydeck"
   ]
  },
  {
   "cell_type": "code",
   "execution_count": null,
   "metadata": {
    "id": "zoKgph63MYGu"
   },
   "outputs": [],
   "source": [
    "!pip install pydeck --quiet\n"
   ]
  },
  {
   "cell_type": "code",
   "execution_count": null,
   "metadata": {
    "id": "k1-VpUI3LHeK"
   },
   "outputs": [],
   "source": [
    "import pydeck as pdk\n",
    "\n",
    "geojson_layer = pdk.Layer(\n",
    "    \"GeoJsonLayer\",\n",
    "    gdf[[\"geometry\"]],\n",
    "    pickable=True,\n",
    "    stroked=True,\n",
    "    autoHighlight=True,\n",
    "    get_fill_color=[200, 200, 255, 200],\n",
    "    extruded=True,\n",
    "    elevation_scale=0.005,\n",
    ")\n",
    "\n",
    "pdk.Deck(layers=[geojson_layer])"
   ]
  },
  {
   "cell_type": "code",
   "execution_count": null,
   "metadata": {
    "id": "vwPUkVO8L_cu"
   },
   "outputs": [],
   "source": []
  }
 ],
 "metadata": {
  "application/vnd.databricks.v1+notebook": {
   "computePreferences": null,
   "dashboards": [],
   "environmentMetadata": {
    "base_environment": "",
    "environment_version": "2"
   },
   "inputWidgetPreferences": null,
   "language": "python",
   "notebookMetadata": {
    "pythonIndentUnit": 4
   },
   "notebookName": "colab_gpd_viz",
   "widgets": {}
  },
  "colab": {
   "provenance": [],
   "toc_visible": true
  },
  "kernelspec": {
   "display_name": "Python 3",
   "name": "python3"
  },
  "language_info": {
   "name": "python"
  }
 },
 "nbformat": 4,
 "nbformat_minor": 0
}
