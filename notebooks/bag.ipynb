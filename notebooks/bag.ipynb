{
 "cells": [
  {
   "cell_type": "markdown",
   "metadata": {
    "application/vnd.databricks.v1+cell": {
     "cellMetadata": {},
     "inputWidgets": {},
     "nuid": "7f7f12c2-649e-4352-a2f8-bca75ac07f52",
     "showTitle": false,
     "tableResultSettingsMap": {},
     "title": ""
    },
    "id": "8W7Qa9CzJWj9"
   },
   "source": [
    "# Process BAG"
   ]
  },
  {
   "cell_type": "markdown",
   "metadata": {
    "application/vnd.databricks.v1+cell": {
     "cellMetadata": {},
     "inputWidgets": {},
     "nuid": "197fd68d-7ade-42ac-8011-168e7ef51b71",
     "showTitle": false,
     "tableResultSettingsMap": {},
     "title": ""
    },
    "id": "AoF95g3PGf-2"
   },
   "source": [
    "(should work on Mac or Windows too, if duckdb installed)\n",
    "\n",
    "the original problem is that BAG is published as 2000+ xml files (zipped) and QGIS could more easily open a FlatGeobuf or a set of (Geo)parquet files. In theory QGIS could convert but it's hard to open all these at once, so `duckdb` can be used."
   ]
  },
  {
   "cell_type": "code",
   "execution_count": null,
   "metadata": {
    "application/vnd.databricks.v1+cell": {
     "cellMetadata": {},
     "inputWidgets": {},
     "nuid": "c4ef7bb2-be51-43a4-b36d-cc44869d1c69",
     "showTitle": false,
     "tableResultSettingsMap": {},
     "title": ""
    },
    "colab": {
     "base_uri": "https://localhost:8080/"
    },
    "id": "EMNQ4rLftaeH",
    "outputId": "f8e3e748-c470-4199-a224-92c5d0642ec2"
   },
   "outputs": [],
   "source": [
    "# Download can take 40+(!) minutes, this is due to the the uplink speed from\n",
    "# Kadaster though.\n",
    "!curl -L -o lvbag-extract-nl.zip \"https://service.pdok.nl/kadaster/adressen/atom/v1_0/downloads/lvbag-extract-nl.zip\""
   ]
  },
  {
   "cell_type": "code",
   "execution_count": null,
   "metadata": {
    "application/vnd.databricks.v1+cell": {
     "cellMetadata": {},
     "inputWidgets": {},
     "nuid": "7edb12bc-40ca-4487-8021-e1cc9fa28cfd",
     "showTitle": false,
     "tableResultSettingsMap": {},
     "title": ""
    },
    "id": "GGZnAW4fEtoK"
   },
   "outputs": [],
   "source": [
    "import zipfile\n",
    "\n",
    "LOCAL_FILE_PATH = \"./lvbag-extract-nl.zip\"\n",
    "\n",
    "with zipfile.ZipFile(LOCAL_FILE_PATH, \"r\") as zip_ref:\n",
    "    zip_ref.extractall(\"./lvbag-extract-nl/\")"
   ]
  },
  {
   "cell_type": "code",
   "execution_count": null,
   "metadata": {
    "application/vnd.databricks.v1+cell": {
     "cellMetadata": {},
     "inputWidgets": {},
     "nuid": "729f91a2-02ef-40d1-9f01-814deb762da7",
     "showTitle": false,
     "tableResultSettingsMap": {},
     "title": ""
    },
    "colab": {
     "base_uri": "https://localhost:8080/",
     "height": 35
    },
    "id": "xHw9B87BJWj_",
    "outputId": "0bd506fd-0b84-4123-badb-9f91895b967f"
   },
   "outputs": [],
   "source": [
    "import glob\n",
    "\n",
    "pnd_file = glob.glob(\"./lvbag-extract-nl/9999PND*.zip\")[0]\n",
    "pnd_file"
   ]
  },
  {
   "cell_type": "markdown",
   "metadata": {
    "id": "akYKTTRCg4Vs"
   },
   "source": [
    "## Option 1: DuckDB"
   ]
  },
  {
   "cell_type": "code",
   "execution_count": null,
   "metadata": {
    "application/vnd.databricks.v1+cell": {
     "cellMetadata": {},
     "inputWidgets": {},
     "nuid": "398a23e3-2bb9-46d3-bd45-6dbb74a74a82",
     "showTitle": false,
     "tableResultSettingsMap": {},
     "title": ""
    },
    "id": "89oqZykCQW76"
   },
   "outputs": [],
   "source": [
    "import duckdb\n",
    "\n",
    "duckdb.sql(\"\"\"install spatial; load spatial\"\"\")"
   ]
  },
  {
   "cell_type": "code",
   "execution_count": null,
   "metadata": {
    "application/vnd.databricks.v1+cell": {
     "cellMetadata": {},
     "inputWidgets": {},
     "nuid": "2dab49e9-5128-47ae-ae03-89f4d5356386",
     "showTitle": false,
     "tableResultSettingsMap": {},
     "title": ""
    },
    "colab": {
     "base_uri": "https://localhost:8080/",
     "height": 49,
     "referenced_widgets": [
      "96c81a4e87f343ab8e91af0dd58f1c99",
      "39745622e0dd403c81d1dcf4dadff8b4",
      "b278355defdc4f6282b994c0092d4cb9"
     ]
    },
    "id": "ijra9JKQQk4L",
    "outputId": "59d01e66-43c0-493b-aad1-b3a7dadab877"
   },
   "outputs": [],
   "source": [
    "# 40 min\n",
    "duckdb.sql(\n",
    "    f\"\"\"COPY (\n",
    "    SELECT\n",
    "        *\n",
    "    FROM st_read('/vsizip/{pnd_file}')\n",
    ") TO 'bag.fgb' (\n",
    "    FORMAT GDAL,\n",
    "    DRIVER flatgeobuf\n",
    ")\n",
    "\"\"\"\n",
    ")"
   ]
  },
  {
   "cell_type": "markdown",
   "metadata": {
    "id": "zx4wgmDVJWkA"
   },
   "source": [
    "This flatgeobuf file, while large, can actually be efficiently opened in QGIS after download."
   ]
  },
  {
   "cell_type": "markdown",
   "metadata": {
    "id": "yHmNa0glf8XJ"
   },
   "source": [
    "## Option 2: ogr2ogr (same speed though)"
   ]
  },
  {
   "cell_type": "code",
   "execution_count": null,
   "metadata": {
    "id": "LuVbLGvDgSYI"
   },
   "outputs": [],
   "source": [
    "PND_PATH = \"./lvbag-extract-nl/9999PND/\"\n",
    "\n",
    "with zipfile.ZipFile(pnd_file, \"r\") as zip_ref:\n",
    "    zip_ref.extractall(PND_PATH)"
   ]
  },
  {
   "cell_type": "code",
   "execution_count": null,
   "metadata": {
    "colab": {
     "base_uri": "https://localhost:8080/"
    },
    "id": "YaHVR1J5gMFk",
    "outputId": "061334fa-3439-49b6-fca1-b35ea9a30e9d"
   },
   "outputs": [],
   "source": [
    "!apt-get install -y gdal-bin"
   ]
  },
  {
   "cell_type": "code",
   "execution_count": null,
   "metadata": {
    "id": "FzT6YiangaY0"
   },
   "outputs": [],
   "source": [
    "# 36 min\n",
    "!ogr2ogr ./bag_ogr.fgb {PND_PATH}"
   ]
  }
 ],
 "metadata": {
  "application/vnd.databricks.v1+notebook": {
   "computePreferences": null,
   "dashboards": [],
   "environmentMetadata": null,
   "language": "python",
   "notebookMetadata": {
    "pythonIndentUnit": 4
   },
   "notebookName": "bag_parquet",
   "widgets": {}
  },
  "colab": {
   "provenance": []
  },
  "kernelspec": {
   "display_name": "venv",
   "language": "python",
   "name": "python3"
  },
  "language_info": {
   "name": "python",
   "version": "3.13.1"
  }
 },
 "nbformat": 4,
 "nbformat_minor": 0
}
