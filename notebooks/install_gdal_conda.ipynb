{
 "cells": [
  {
   "cell_type": "markdown",
   "id": "e84a5a5e",
   "metadata": {},
   "source": [
    "# Install GDAL command line tools in Colab with Parquet support\n",
    "\n",
    "If we need Parquet support for e.g. [ogr2ogr](https://gdal.org/en/stable/programs/ogr2ogr.html) or other command-line GDAL tool, we can install the required packages via `conda`. Or to be more precise, via `conda-forge` and `miniforge`.\n",
    "\n",
    "The `libgdal-arrow-parquet` extension package that we need is not available via `apt`, but [it can be installed](https://gdal.org/en/stable/download.html#conda) via conda-forge. So let's first install conda-forge [^1] (and update `$PATH` [^2]):\n",
    "\n",
    "[^1]: The curl download link comes from [conda-forge](https://conda-forge.org/download) and their installation [instructions](https://github.com/conda-forge/miniforge?tab=readme-ov-file#install) on GitHub.\n",
    "\n",
    "[^2]: the reason we edit environment variables in Colab in a Python cell, not in a shell cell, is so that it persists across different cells in the notebook."
   ]
  },
  {
   "cell_type": "code",
   "execution_count": null,
   "id": "5ef16622",
   "metadata": {
    "vscode": {
     "languageId": "plaintext"
    }
   },
   "outputs": [],
   "source": [
    "import os"
   ]
  },
  {
   "cell_type": "code",
   "execution_count": null,
   "id": "db1b034c",
   "metadata": {
    "vscode": {
     "languageId": "plaintext"
    }
   },
   "outputs": [],
   "source": [
    "!curl -L -O \"https://github.com/conda-forge/miniforge/releases/latest/download/Miniforge3-$(uname)-$(uname -m).sh\"\n",
    "!bash Miniforge3-$(uname)-$(uname -m).sh -b -p /usr/local/miniforge\n",
    "\n",
    "os.environ[\"PATH\"] = \"/usr/local/miniforge/bin:\" + os.environ[\"PATH\"]\n",
    "\n",
    "# if we don't set this environment variable, `ogr2ogr` will emit PROJ-related warnings\n",
    "os.environ[\"PROJ_LIB\"] = \"/usr/local/miniforge/share/proj\""
   ]
  },
  {
   "cell_type": "markdown",
   "id": "7e76680d",
   "metadata": {},
   "source": [
    "Now we can add arrow/parquet support:"
   ]
  },
  {
   "cell_type": "code",
   "execution_count": null,
   "id": "46e0ee04",
   "metadata": {
    "vscode": {
     "languageId": "plaintext"
    }
   },
   "outputs": [],
   "source": [
    "!conda install libgdal-arrow-parquet -y"
   ]
  },
  {
   "cell_type": "markdown",
   "id": "8ff41498",
   "metadata": {},
   "source": [
    "And that's it:"
   ]
  },
  {
   "cell_type": "code",
   "execution_count": null,
   "id": "7135708c",
   "metadata": {
    "vscode": {
     "languageId": "plaintext"
    }
   },
   "outputs": [],
   "source": [
    "!ogr2ogr --formats | grep parquet\n",
    "# Returns:\n",
    "#   Parquet -vector- (rw+v): (Geo)Parquet (*.parquet)"
   ]
  }
 ],
 "metadata": {
  "language_info": {
   "name": "python"
  }
 },
 "nbformat": 4,
 "nbformat_minor": 5
}
