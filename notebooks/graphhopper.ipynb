{
 "cells": [
  {
   "cell_type": "code",
   "execution_count": null,
   "metadata": {
    "colab": {
     "base_uri": "https://localhost:8080/"
    },
    "id": "QQGZLUxougzW",
    "outputId": "ca934ecf-9965-4d99-95df-9673dcd44e07"
   },
   "outputs": [],
   "source": [
    "%%shell\n",
    "wget -nv https://github.com/graphhopper/graphhopper/releases/download/8.0/graphhopper-web-8.0.jar\n",
    "\n",
    "# example config, trace, and matching pbf\n",
    "wget -nv https://github.com/graphhopper/graphhopper/raw/refs/tags/8.0/config-example.yml\n",
    "wget -nv https://raw.githubusercontent.com/graphhopper/graphhopper/refs/tags/8.0/web/src/test/resources/issue-13.gpx\n",
    "wget -nv https://download.geofabrik.de/europe/turkey-latest.osm.pbf\n",
    "\n",
    "\n"
   ]
  },
  {
   "cell_type": "code",
   "execution_count": null,
   "metadata": {
    "id": "4UX6Hhlau06v"
   },
   "outputs": [],
   "source": [
    "%%shell\n",
    "#edit config to match the pbf\n",
    "sed -i \"s|datareader\\.file: \\\"\\\"|datareader.file: \\\"turkey-latest.osm.pbf\\\"|\" config-example.yml\n"
   ]
  },
  {
   "cell_type": "code",
   "execution_count": null,
   "metadata": {
    "id": "0-2zt6geulfZ"
   },
   "outputs": [],
   "source": [
    "%%shell\n",
    "# note that this fails on many of the other gpx examples within the same folder, but that's a different problem.\n",
    "java -jar graphhopper-web-8.0.jar match --file config-example.yml --profile car issue-13.gpx\n",
    "\n"
   ]
  },
  {
   "cell_type": "code",
   "execution_count": null,
   "metadata": {
    "id": "PtnGdorfvKIv"
   },
   "outputs": [],
   "source": []
  }
 ],
 "metadata": {
  "colab": {
   "provenance": []
  },
  "kernelspec": {
   "display_name": "Python 3",
   "name": "python3"
  },
  "language_info": {
   "name": "python"
  }
 },
 "nbformat": 4,
 "nbformat_minor": 0
}
