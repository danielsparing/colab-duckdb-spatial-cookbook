{
 "cells": [
  {
   "cell_type": "code",
   "execution_count": null,
   "metadata": {
    "colab": {
     "base_uri": "https://localhost:8080/"
    },
    "id": "QQGZLUxougzW",
    "outputId": "ca934ecf-9965-4d99-95df-9673dcd44e07"
   },
   "outputs": [],
   "source": [
    "%%shell\n",
    "wget -nv https://github.com/graphhopper/graphhopper/releases/download/8.0/graphhopper-web-8.0.jar\n",
    "\n",
    "# example config, trace, and matching pbf\n",
    "wget -nv https://github.com/graphhopper/graphhopper/raw/refs/tags/8.0/config-example.yml\n",
    "wget -nv https://raw.githubusercontent.com/graphhopper/graphhopper/refs/tags/8.0/web/src/test/resources/issue-13.gpx\n",
    "wget -nv https://download.geofabrik.de/europe/turkey-latest.osm.pbf\n",
    "\n",
    "\n"
   ]
  },
  {
   "cell_type": "code",
   "execution_count": null,
   "metadata": {
    "id": "4UX6Hhlau06v"
   },
   "outputs": [],
   "source": [
    "%%shell\n",
    "#edit config to match the pbf\n",
    "sed -i \"s|datareader\\.file: \\\"\\\"|datareader.file: \\\"turkey-latest.osm.pbf\\\"|\" config-example.yml\n"
   ]
  },
  {
   "cell_type": "code",
   "execution_count": null,
   "metadata": {
    "id": "0-2zt6geulfZ"
   },
   "outputs": [],
   "source": [
    "%%shell\n",
    "# note that this fails on many of the other gpx examples within the same folder, but that's a different problem.\n",
    "java -jar graphhopper-web-8.0.jar match --file config-example.yml --profile car issue-13.gpx\n",
    "# Outputs:\n",
    "# [...]\n",
    "# \tmatches:\t5, gps entries:29\n",
    "# \tgpx length:\t237.48259 vs 242.84663\n",
    "# \texport results to:/content/issue-13.gpx.res.gpx\n",
    "# gps import took:0.079214536s, match took: 0.15504219"
   ]
  },
  {
   "cell_type": "markdown",
   "metadata": {},
   "source": [
    "![issue-13 matched](img/issue-13-matched_viz-via-gpxstudio.png)"
   ]
  },
  {
   "cell_type": "code",
   "execution_count": null,
   "metadata": {},
   "outputs": [],
   "source": []
  }
 ],
 "metadata": {
  "colab": {
   "provenance": []
  },
  "kernelspec": {
   "display_name": "venv",
   "language": "python",
   "name": "python3"
  },
  "language_info": {
   "name": "python",
   "version": "3.13.1"
  }
 },
 "nbformat": 4,
 "nbformat_minor": 0
}
