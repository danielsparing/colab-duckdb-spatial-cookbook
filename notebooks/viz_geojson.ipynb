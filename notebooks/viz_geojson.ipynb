{
 "cells": [
  {
   "cell_type": "markdown",
   "metadata": {
    "application/vnd.databricks.v1+cell": {
     "cellMetadata": {},
     "inputWidgets": {},
     "nuid": "93a1d815-d893-4fbe-8d01-d99fc99bef15",
     "showTitle": false,
     "tableResultSettingsMap": {},
     "title": ""
    }
   },
   "source": [
    "# Visualize large GeoJSONs in Google Colab\n"
   ]
  },
  {
   "cell_type": "markdown",
   "metadata": {
    "application/vnd.databricks.v1+cell": {
     "cellMetadata": {},
     "inputWidgets": {},
     "nuid": "51c3ed68-3ee5-4bfb-8179-aa85e516a95c",
     "showTitle": false,
     "tableResultSettingsMap": {},
     "title": ""
    }
   },
   "source": [
    "![collage](img/collage.jpg)"
   ]
  },
  {
   "cell_type": "markdown",
   "metadata": {
    "application/vnd.databricks.v1+cell": {
     "cellMetadata": {},
     "inputWidgets": {},
     "nuid": "2d84e68b-211b-49b4-a8cc-0e8c2b41a31d",
     "showTitle": false,
     "tableResultSettingsMap": {},
     "title": ""
    }
   },
   "source": [
    "Colab is capable to visualize even 100+ MB GeoJSONs, with the right library. We have a few options:\n",
    "\n",
    "- [Folium](https://python-visualization.github.io/folium/latest/index.html) and [pydeck](https://deckgl.readthedocs.io/en/latest/) can directly take a URL as input (except the viewport bounds, see below)\n",
    "- We can plug in the downloaded JSON content to [kepler.gl](https://kepler.gl/)\n",
    "- Finally, if you load your file with geopandas (or DuckDB), then [lonboard](https://developmentseed.org/lonboard/latest/) is a great option.\n"
   ]
  },
  {
   "cell_type": "markdown",
   "metadata": {
    "application/vnd.databricks.v1+cell": {
     "cellMetadata": {},
     "inputWidgets": {},
     "nuid": "c5210634-7327-4813-9078-58cb51acaefa",
     "showTitle": false,
     "tableResultSettingsMap": {},
     "title": ""
    }
   },
   "source": [
    "## Example dataset\n",
    "Let's take [this](https://catalog.data.gov/dataset/building-footprints-d97ff) dataset of building layouts in DC.\n",
    "\n"
   ]
  },
  {
   "cell_type": "code",
   "execution_count": null,
   "metadata": {
    "application/vnd.databricks.v1+cell": {
     "cellMetadata": {
      "byteLimit": 2048000,
      "rowLimit": 10000
     },
     "inputWidgets": {},
     "nuid": "efe765e0-160c-4f0e-8fab-7319fb9e43b9",
     "showTitle": false,
     "tableResultSettingsMap": {},
     "title": ""
    },
    "id": "nPKAh3L2_hW9"
   },
   "outputs": [],
   "source": [
    "GEOJSON_URL = \"https://opendata.dc.gov/api/download/v1/items/a657b34942564aa8b06f293cb0934cbd/geojson?layers=1\""
   ]
  },
  {
   "cell_type": "markdown",
   "metadata": {
    "application/vnd.databricks.v1+cell": {
     "cellMetadata": {},
     "inputWidgets": {},
     "nuid": "90cd92b1-d81d-41fe-b9a5-6c7df3f2f202",
     "showTitle": false,
     "tableResultSettingsMap": {},
     "title": ""
    },
    "id": "jMIsxNLMXwb8"
   },
   "source": [
    "## A word on the viewport (bounds)\n",
    "\n",
    "While kepler.gl and lonboard automatically match the viewport to the data, Folium and pydeck don't. So if you want to align the initial viewport to the data, you would still need to load the geojson to geopandas (for example), to fetch the bounds, such as:"
   ]
  },
  {
   "cell_type": "code",
   "execution_count": null,
   "metadata": {
    "application/vnd.databricks.v1+cell": {
     "cellMetadata": {
      "byteLimit": 2048000,
      "rowLimit": 10000
     },
     "inputWidgets": {},
     "nuid": "45609ab7-e814-47f3-a0ff-f0e963596c06",
     "showTitle": false,
     "tableResultSettingsMap": {},
     "title": ""
    },
    "id": "0VyP2wFvBJS9"
   },
   "outputs": [],
   "source": [
    "import geopandas as gpd\n",
    "\n",
    "gdf = gpd.read_file(GEOJSON_URL)\n",
    "\n",
    "bounds = dict(\n",
    "    zip(\n",
    "        [\"min_lon\", \"min_lat\", \"max_lon\", \"max_lat\"],\n",
    "        gdf.total_bounds,\n",
    "    )\n",
    ")\n",
    "\n",
    "bounds\n",
    "# Returns:\n",
    "# {'min_lon': -77.1152269702393,\n",
    "#  'min_lat': 38.803140886265474,\n",
    "#  'max_lon': -76.90970681858026,\n",
    "#  'max_lat': 38.99563017291741}"
   ]
  },
  {
   "cell_type": "markdown",
   "metadata": {
    "application/vnd.databricks.v1+cell": {
     "cellMetadata": {},
     "inputWidgets": {},
     "nuid": "fdcb8f80-1fd9-4e38-ab54-17bca9db87fc",
     "showTitle": false,
     "tableResultSettingsMap": {},
     "title": ""
    },
    "id": "PJhvtFzaXOg6"
   },
   "source": [
    "## Folium"
   ]
  },
  {
   "cell_type": "code",
   "execution_count": null,
   "metadata": {
    "application/vnd.databricks.v1+cell": {
     "cellMetadata": {
      "byteLimit": 2048000,
      "rowLimit": 10000
     },
     "inputWidgets": {},
     "nuid": "f263e5ef-6343-4cdf-b8d5-7dce7a8ee743",
     "showTitle": false,
     "tableResultSettingsMap": {},
     "title": ""
    },
    "id": "_yDNxnEnNlad"
   },
   "outputs": [],
   "source": [
    "!pip install folium --quiet"
   ]
  },
  {
   "cell_type": "code",
   "execution_count": null,
   "metadata": {
    "application/vnd.databricks.v1+cell": {
     "cellMetadata": {
      "byteLimit": 2048000,
      "rowLimit": 10000
     },
     "inputWidgets": {},
     "nuid": "8d70abfd-b0a2-4c80-b63c-30ce5707235e",
     "showTitle": false,
     "tableResultSettingsMap": {},
     "title": ""
    },
    "id": "GX-QSjO552fx"
   },
   "outputs": [],
   "source": [
    "import folium\n",
    "\n",
    "# Create a map\n",
    "m = folium.Map()\n",
    "\n",
    "m.fit_bounds(\n",
    "    [\n",
    "        [bounds[\"min_lat\"], bounds[\"min_lon\"]],\n",
    "        [bounds[\"max_lat\"], bounds[\"max_lon\"]],\n",
    "    ]\n",
    ")\n",
    "\n",
    "# Add GeoJSON layer\n",
    "folium.GeoJson(\n",
    "    GEOJSON_URL,\n",
    ").add_to(m)\n",
    "\n",
    "m"
   ]
  },
  {
   "cell_type": "markdown",
   "metadata": {
    "application/vnd.databricks.v1+cell": {
     "cellMetadata": {},
     "inputWidgets": {},
     "nuid": "b15e89c1-ef93-4984-b04f-44649e441113",
     "showTitle": false,
     "tableResultSettingsMap": {},
     "title": ""
    }
   },
   "source": [
    "![Folium](img/dcbuildings_folium.png)"
   ]
  },
  {
   "cell_type": "markdown",
   "metadata": {
    "application/vnd.databricks.v1+cell": {
     "cellMetadata": {},
     "inputWidgets": {},
     "nuid": "e35ee972-1369-44c8-a6df-4beb0f0b0cc9",
     "showTitle": false,
     "tableResultSettingsMap": {},
     "title": ""
    },
    "id": "UIITRBHqXb4z"
   },
   "source": [
    "## Pydeck"
   ]
  },
  {
   "cell_type": "code",
   "execution_count": null,
   "metadata": {
    "application/vnd.databricks.v1+cell": {
     "cellMetadata": {
      "byteLimit": 2048000,
      "rowLimit": 10000
     },
     "inputWidgets": {},
     "nuid": "a66ce6a4-b2aa-4bef-a047-e8bfc2944899",
     "showTitle": false,
     "tableResultSettingsMap": {},
     "title": ""
    },
    "id": "YMI6to3A3r_P"
   },
   "outputs": [],
   "source": [
    "!pip install pydeck --quiet"
   ]
  },
  {
   "cell_type": "code",
   "execution_count": null,
   "metadata": {
    "application/vnd.databricks.v1+cell": {
     "cellMetadata": {
      "byteLimit": 2048000,
      "rowLimit": 10000
     },
     "inputWidgets": {},
     "nuid": "b0494e62-273b-47f9-8c1e-4977a4d71068",
     "showTitle": false,
     "tableResultSettingsMap": {},
     "title": ""
    },
    "id": "aogeFOPwzw2X"
   },
   "outputs": [],
   "source": [
    "import pydeck as pdk\n",
    "\n",
    "bbox_corners = [\n",
    "    [bounds[\"min_lon\"], bounds[\"min_lat\"]],\n",
    "    [bounds[\"max_lon\"], bounds[\"max_lat\"]],\n",
    "]\n",
    "\n",
    "view_state = pdk.data_utils.compute_view(bbox_corners)\n",
    "\n",
    "geojson_layer = pdk.Layer(\n",
    "    \"GeoJsonLayer\",\n",
    "    GEOJSON_URL,\n",
    "    pickable=True,\n",
    "    stroked=True,\n",
    "    autoHighlight=True,\n",
    "    get_fill_color=[200, 200, 255, 200],\n",
    "    extruded=True,\n",
    "    elevation_scale=0.005,\n",
    ")\n",
    "\n",
    "pdk.Deck(layers=[geojson_layer], initial_view_state=view_state)"
   ]
  },
  {
   "cell_type": "markdown",
   "metadata": {
    "application/vnd.databricks.v1+cell": {
     "cellMetadata": {},
     "inputWidgets": {},
     "nuid": "308d19ca-aef2-4ad1-b593-d6e50a1625cf",
     "showTitle": false,
     "tableResultSettingsMap": {},
     "title": ""
    }
   },
   "source": [
    "![Folium](img/dcbuildings_pydeck.png)"
   ]
  },
  {
   "cell_type": "markdown",
   "metadata": {
    "application/vnd.databricks.v1+cell": {
     "cellMetadata": {},
     "inputWidgets": {},
     "nuid": "b8a1eecf-042e-4d3a-b0bf-d21f96d2ce97",
     "showTitle": false,
     "tableResultSettingsMap": {},
     "title": ""
    }
   },
   "source": [
    "## Kepler.gl\n",
    "\n",
    "There are two details to currently consider when using Kepler.gl in Colab:\n",
    "\n",
    "- Because of a dependency [issue](https://github.com/keplergl/kepler.gl/issues/2914), for now you need to pin to version 0.3.2:"
   ]
  },
  {
   "cell_type": "code",
   "execution_count": null,
   "metadata": {
    "application/vnd.databricks.v1+cell": {
     "cellMetadata": {},
     "inputWidgets": {},
     "nuid": "ca85926a-7984-45b2-ad7b-6cf9827178d1",
     "showTitle": false,
     "tableResultSettingsMap": {},
     "title": ""
    }
   },
   "outputs": [],
   "source": [
    "!pip install keplergl==0.3.2 --quiet"
   ]
  },
  {
   "cell_type": "markdown",
   "metadata": {
    "application/vnd.databricks.v1+cell": {
     "cellMetadata": {},
     "inputWidgets": {},
     "nuid": "46edd0f7-0822-407f-a4c4-69b17a153d5f",
     "showTitle": false,
     "tableResultSettingsMap": {},
     "title": ""
    }
   },
   "source": [
    "- And as Colab would warn you if you tried without, you'll need to run:"
   ]
  },
  {
   "cell_type": "code",
   "execution_count": null,
   "metadata": {
    "application/vnd.databricks.v1+cell": {
     "cellMetadata": {},
     "inputWidgets": {},
     "nuid": "d0e484c3-ccd2-4b62-a500-51f37076d628",
     "showTitle": false,
     "tableResultSettingsMap": {},
     "title": ""
    }
   },
   "outputs": [],
   "source": [
    "from google.colab import output\n",
    "\n",
    "output.enable_custom_widget_manager()"
   ]
  },
  {
   "cell_type": "markdown",
   "metadata": {
    "application/vnd.databricks.v1+cell": {
     "cellMetadata": {},
     "inputWidgets": {},
     "nuid": "a3147a41-3f78-4b26-80ee-928b6108849c",
     "showTitle": false,
     "tableResultSettingsMap": {},
     "title": ""
    }
   },
   "source": [
    "Also, unlike the above libaries, Kepler.gl doesn't take the URL but need to be fed the JSON object:"
   ]
  },
  {
   "cell_type": "code",
   "execution_count": null,
   "metadata": {
    "application/vnd.databricks.v1+cell": {
     "cellMetadata": {},
     "inputWidgets": {},
     "nuid": "2cd1ded0-839b-48a2-b4f0-47695094275a",
     "showTitle": false,
     "tableResultSettingsMap": {},
     "title": ""
    }
   },
   "outputs": [],
   "source": [
    "import requests\n",
    "\n",
    "response = requests.get(GEOJSON_URL)\n",
    "geojson_data = response.json()"
   ]
  },
  {
   "cell_type": "markdown",
   "metadata": {
    "application/vnd.databricks.v1+cell": {
     "cellMetadata": {},
     "inputWidgets": {},
     "nuid": "81e26ea6-ac2d-4092-85c6-a963485e5cd7",
     "showTitle": false,
     "tableResultSettingsMap": {},
     "title": ""
    }
   },
   "source": [
    "Now we are ready:"
   ]
  },
  {
   "cell_type": "code",
   "execution_count": null,
   "metadata": {
    "application/vnd.databricks.v1+cell": {
     "cellMetadata": {},
     "inputWidgets": {},
     "nuid": "1f610608-81d9-4f7f-a68f-e50a9ceeb80e",
     "showTitle": false,
     "tableResultSettingsMap": {},
     "title": ""
    }
   },
   "outputs": [],
   "source": [
    "from keplergl import KeplerGl\n",
    "\n",
    "m = KeplerGl(height=1000)\n",
    "m.add_data(data=geojson_data, name=\"feature_collection\")\n",
    "m"
   ]
  },
  {
   "cell_type": "markdown",
   "metadata": {
    "application/vnd.databricks.v1+cell": {
     "cellMetadata": {},
     "inputWidgets": {},
     "nuid": "f6a96c19-bf5b-4ebc-85eb-6db8d0657df4",
     "showTitle": false,
     "tableResultSettingsMap": {},
     "title": ""
    }
   },
   "source": [
    "![Kepler.gl](img/dcbuildings_keplergl.png)"
   ]
  },
  {
   "cell_type": "markdown",
   "metadata": {
    "application/vnd.databricks.v1+cell": {
     "cellMetadata": {},
     "inputWidgets": {},
     "nuid": "7ee95e2b-e106-4723-8243-d4e3df5dff04",
     "showTitle": false,
     "tableResultSettingsMap": {},
     "title": ""
    }
   },
   "source": [
    "## Lonboard\n",
    "\n",
    "Lonboard really needs a Geopandas object (or a DuckDB connection):"
   ]
  },
  {
   "cell_type": "code",
   "execution_count": null,
   "metadata": {
    "application/vnd.databricks.v1+cell": {
     "cellMetadata": {},
     "inputWidgets": {},
     "nuid": "06b3ad55-e4d9-49e0-bb81-6f8654563a0c",
     "showTitle": false,
     "tableResultSettingsMap": {},
     "title": ""
    }
   },
   "outputs": [],
   "source": [
    "!pip install lonboard --quiet\n",
    "\n",
    "from lonboard import viz"
   ]
  },
  {
   "cell_type": "code",
   "execution_count": null,
   "metadata": {
    "application/vnd.databricks.v1+cell": {
     "cellMetadata": {},
     "inputWidgets": {},
     "nuid": "ee9b5409-c0e1-4efa-94fc-09334a4e1175",
     "showTitle": false,
     "tableResultSettingsMap": {},
     "title": ""
    }
   },
   "outputs": [],
   "source": [
    "import geopandas as gpd\n",
    "\n",
    "gdf = gpd.read_file(GEOJSON_URL)\n",
    "\n",
    "viz(gdf)\n",
    "\n",
    "# or equivalently:\n",
    "\n",
    "# # Need to downgrade duckdb due to https://github.com/developmentseed/lonboard/issues/771\n",
    "# !pip install duckdb==1.1.3 --quiet\n",
    "#\n",
    "# import duckdb\n",
    "#\n",
    "# # sadly the below will still not work in this particular URL directly,\n",
    "# # but works if the file is first downloaded. In general a direct URL could still work,\n",
    "# # for example with a different URL:\n",
    "# SMALL_GEOJSON_URL = \"https://raw.githubusercontent.com/python-visualization/folium/refs/tags/v0.19.4/examples/data/world-countries.json\"\n",
    "#\n",
    "#\n",
    "# query =  duckdb.sql(\n",
    "#     f\"\"\"\n",
    "# SELECT\n",
    "#     *\n",
    "# FROM\n",
    "#     st_read('{GEOJSON_URL}');\n",
    "# \"\"\"\n",
    "# )\n",
    "#\n",
    "# viz(query)"
   ]
  },
  {
   "cell_type": "markdown",
   "metadata": {
    "application/vnd.databricks.v1+cell": {
     "cellMetadata": {},
     "inputWidgets": {},
     "nuid": "2d1c05ab-8423-429e-9b9d-a9f096a94d58",
     "showTitle": false,
     "tableResultSettingsMap": {},
     "title": ""
    }
   },
   "source": [
    "![Lonboard viz](img/dcbuildings_lonboard_viz.png)"
   ]
  },
  {
   "cell_type": "markdown",
   "metadata": {
    "application/vnd.databricks.v1+cell": {
     "cellMetadata": {},
     "inputWidgets": {},
     "nuid": "ef735bca-de76-4415-9556-a3310edf4c1f",
     "showTitle": false,
     "tableResultSettingsMap": {},
     "title": ""
    }
   },
   "source": [
    "or more customizable:"
   ]
  },
  {
   "cell_type": "code",
   "execution_count": null,
   "metadata": {
    "application/vnd.databricks.v1+cell": {
     "cellMetadata": {},
     "inputWidgets": {},
     "nuid": "62a5e380-0c9d-4f88-a326-760f91ff8230",
     "showTitle": false,
     "tableResultSettingsMap": {},
     "title": ""
    }
   },
   "outputs": [],
   "source": [
    "from lonboard import Map, PolygonLayer\n",
    "\n",
    "layer = PolygonLayer.from_geopandas(\n",
    "    gdf,\n",
    "    get_line_width=1,  # width in default units (meters)\n",
    "    line_width_min_pixels=0.2,  # minimum width when zoomed out\n",
    "    get_fill_color=[200, 200, 255, 200],\n",
    ")\n",
    "\n",
    "m = Map(layer, _height=1000)\n",
    "m"
   ]
  },
  {
   "cell_type": "markdown",
   "metadata": {
    "application/vnd.databricks.v1+cell": {
     "cellMetadata": {},
     "inputWidgets": {},
     "nuid": "a913b4c2-a0c8-4211-b33e-fb184c29bb18",
     "showTitle": false,
     "tableResultSettingsMap": {},
     "title": ""
    }
   },
   "source": [
    "![Lonboard map](img/dcbuildings_lonboard_map.png)"
   ]
  }
 ],
 "metadata": {
  "application/vnd.databricks.v1+notebook": {
   "computePreferences": null,
   "dashboards": [],
   "environmentMetadata": null,
   "inputWidgetPreferences": null,
   "language": "python",
   "notebookMetadata": {
    "pythonIndentUnit": 4
   },
   "notebookName": "colab_geojson_viz",
   "widgets": {}
  },
  "colab": {
   "provenance": []
  },
  "kernelspec": {
   "display_name": "Python 3",
   "name": "python3"
  },
  "language_info": {
   "name": "python"
  }
 },
 "nbformat": 4,
 "nbformat_minor": 0
}
