{
  "nbformat": 4,
  "nbformat_minor": 0,
  "metadata": {
    "colab": {
      "provenance": [],
      "authorship_tag": "ABX9TyNDSFM8H61ydwwwWRldcTEF",
      "include_colab_link": true
    },
    "kernelspec": {
      "name": "python3",
      "display_name": "Python 3"
    },
    "language_info": {
      "name": "python"
    }
  },
  "cells": [
    {
      "cell_type": "markdown",
      "metadata": {
        "id": "view-in-github",
        "colab_type": "text"
      },
      "source": [
        "<a href=\"https://colab.research.google.com/github/danielsparing/colab-duckdb-spatial-cookbook/blob/main/install_duckdb_spatial.ipynb\" target=\"_parent\"><img src=\"https://colab.research.google.com/assets/colab-badge.svg\" alt=\"Open In Colab\"/></a>"
      ]
    },
    {
      "cell_type": "markdown",
      "source": [
        "# Install the DuckDB Spatial Extension"
      ],
      "metadata": {
        "id": "-U1FRuqCJ_RJ"
      }
    },
    {
      "cell_type": "code",
      "execution_count": 1,
      "metadata": {
        "id": "BBeaFb8vINtL"
      },
      "outputs": [],
      "source": [
        "import duckdb"
      ]
    },
    {
      "cell_type": "code",
      "source": [
        "duckdb.sql(\"install spatial; load spatial\")"
      ],
      "metadata": {
        "id": "tgxwWCxdIp8t"
      },
      "execution_count": 2,
      "outputs": []
    },
    {
      "cell_type": "markdown",
      "source": [
        "or alternatively, you can use the methods from the DuckDB Python API:"
      ],
      "metadata": {
        "id": "6vqHxWNmI8Er"
      }
    },
    {
      "cell_type": "code",
      "source": [
        "duckdb.install_extension(\"spatial\")\n",
        "duckdb.load_extension(\"spatial\")"
      ],
      "metadata": {
        "id": "8WsBavLjJJ3W"
      },
      "execution_count": 3,
      "outputs": []
    },
    {
      "cell_type": "markdown",
      "source": [
        "I almost prefer this method but hey, the `duckdb.sql()` version is one line shorter."
      ],
      "metadata": {
        "id": "0qNm_pyWJYnq"
      }
    },
    {
      "cell_type": "markdown",
      "source": [
        "Now let's check that we can indeed use the extension:"
      ],
      "metadata": {
        "id": "3nQ8cJerJgmK"
      }
    },
    {
      "cell_type": "code",
      "source": [
        "duckdb.sql(\"\"\"select st_distance(\n",
        "    st_geomfromtext('point(0 0)'),\n",
        "    st_geomfromtext('point(1 1)')\n",
        ") dist\"\"\")"
      ],
      "metadata": {
        "colab": {
          "base_uri": "https://localhost:8080/"
        },
        "id": "X5Q4OQA2JVtc",
        "outputId": "32571075-6c07-4928-9e2a-944da9124ef1"
      },
      "execution_count": 4,
      "outputs": [
        {
          "output_type": "execute_result",
          "data": {
            "text/plain": [
              "┌────────────────────┐\n",
              "│        dist        │\n",
              "│       double       │\n",
              "├────────────────────┤\n",
              "│ 1.4142135623730951 │\n",
              "└────────────────────┘"
            ]
          },
          "metadata": {},
          "execution_count": 4
        }
      ]
    },
    {
      "cell_type": "markdown",
      "source": [
        "## Install the `h3` extension"
      ],
      "metadata": {
        "id": "8OhAX61SKRM5"
      }
    },
    {
      "cell_type": "markdown",
      "source": [
        "Another extension we might need later, for spatial indexing, is [h3](https://duckdb.org/community_extensions/extensions/h3.html). Install similarly (but via the `community` repo) as:"
      ],
      "metadata": {
        "id": "FHm463QdKVdO"
      }
    },
    {
      "cell_type": "code",
      "source": [
        "duckdb.sql(\"install h3 from community; load h3\")"
      ],
      "metadata": {
        "id": "jNknb1xTJzga"
      },
      "execution_count": 5,
      "outputs": []
    },
    {
      "cell_type": "markdown",
      "source": [
        "Test ride, from their [docs](https://duckdb.org/community_extensions/extensions/h3.html#example):"
      ],
      "metadata": {
        "id": "r3oMKeCrKmVY"
      }
    },
    {
      "cell_type": "code",
      "source": [
        "duckdb.sql(\"SELECT h3_latlng_to_cell(37.7887987, -122.3931578, 9) cell\")"
      ],
      "metadata": {
        "colab": {
          "base_uri": "https://localhost:8080/"
        },
        "id": "pUc7SS45KfZ8",
        "outputId": "b0a3fc52-aa6a-44ef-a3e8-46e9f5c59a78"
      },
      "execution_count": 6,
      "outputs": [
        {
          "output_type": "execute_result",
          "data": {
            "text/plain": [
              "┌────────────────────┐\n",
              "│        cell        │\n",
              "│       uint64       │\n",
              "├────────────────────┤\n",
              "│ 617700169991847935 │\n",
              "└────────────────────┘"
            ]
          },
          "metadata": {},
          "execution_count": 6
        }
      ]
    },
    {
      "cell_type": "code",
      "source": [],
      "metadata": {
        "id": "iMm2ORk3KssR"
      },
      "execution_count": 6,
      "outputs": []
    }
  ]
}